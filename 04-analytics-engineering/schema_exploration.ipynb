{
 "cells": [
  {
   "cell_type": "code",
   "execution_count": null,
   "metadata": {},
   "outputs": [],
   "source": []
  },
  {
   "cell_type": "code",
   "execution_count": 6,
   "metadata": {},
   "outputs": [],
   "source": [
    "import pandas as pd\n",
    "\n",
    "yellow = 'yellow_tripdata_2019-01.csv.gz'\n",
    "green = 'green_tripdata_2019-01.csv.gz'\n",
    "fhv = 'fhv_tripdata_2019-02.csv.gz'\n",
    "\n",
    "# df = pd.read_csv(fhv, compression='gzip')\n",
    "\n",
    "# print(df.keys())\n",
    "\n",
    "schema_yellow = {\n",
    "    'VendorID': pd.Int64Dtype(),\n",
    "    'passenger_count': pd.Int64Dtype(),\n",
    "    'trip_distance': float,\n",
    "    'RatecodeID':pd.Int64Dtype(),\n",
    "    'store_and_fwd_flag':str,\n",
    "    'PULocationID':pd.Int64Dtype(),\n",
    "    'DOLocationID':pd.Int64Dtype(),\n",
    "    'payment_type': pd.Int64Dtype(),\n",
    "    'fare_amount': float,\n",
    "    'extra':float,\n",
    "    'mta_tax':float,\n",
    "    'tip_amount':float,\n",
    "    'tolls_amount':float,\n",
    "    'improvement_surcharge':float,\n",
    "    'total_amount':float,\n",
    "    'congestion_surcharge':float\n",
    "}\n",
    "\n",
    "schema_green = {\n",
    "    'VendorID': pd.Int64Dtype(),\n",
    "    'store_and_fwd_flag':str,\n",
    "    'RatecodeID':pd.Int64Dtype(),\n",
    "    'PULocationID':pd.Int64Dtype(),\n",
    "    'DOLocationID':pd.Int64Dtype(),\n",
    "    'passenger_count': pd.Int64Dtype(),\n",
    "    'trip_distance': float,\n",
    "    'fare_amount': float,\n",
    "    'extra':float,\n",
    "    'mta_tax':float,\n",
    "    'tip_amount':float,\n",
    "    'tolls_amount':float,\n",
    "    'ehail_fee':float,\n",
    "    'improvement_surcharge':float,\n",
    "    'total_amount':float,\n",
    "    'payment_type': pd.Int64Dtype(),\n",
    "    'trip_type': pd.Int64Dtype(),\n",
    "    'congestion_surcharge':float\n",
    "}\n",
    "\n",
    "schema_fhv = {\n",
    "    'dispatching_base_num':str,\n",
    "    'PUlocationID': pd.Int64Dtype(),\n",
    "    'DOlocationID':pd.Int64Dtype(),\n",
    "    'SR_Flag':str,\n",
    "    'Affiliated_base_number':str\n",
    "}\n"
   ]
  },
  {
   "cell_type": "code",
   "execution_count": 7,
   "metadata": {},
   "outputs": [
    {
     "data": {
      "text/plain": [
       "Index(['dispatching_base_num', 'pickup_datetime', 'dropOff_datetime',\n",
       "       'PUlocationID', 'DOlocationID', 'SR_Flag', 'Affiliated_base_number'],\n",
       "      dtype='object')"
      ]
     },
     "execution_count": 7,
     "metadata": {},
     "output_type": "execute_result"
    }
   ],
   "source": [
    "df = pd.read_csv(fhv, \n",
    "                 compression='gzip',\n",
    "                 dtype=schema_fhv)\n",
    "df.keys()"
   ]
  },
  {
   "cell_type": "code",
   "execution_count": null,
   "metadata": {},
   "outputs": [
    {
     "data": {
      "text/html": [
       "<div>\n",
       "<style scoped>\n",
       "    .dataframe tbody tr th:only-of-type {\n",
       "        vertical-align: middle;\n",
       "    }\n",
       "\n",
       "    .dataframe tbody tr th {\n",
       "        vertical-align: top;\n",
       "    }\n",
       "\n",
       "    .dataframe thead th {\n",
       "        text-align: right;\n",
       "    }\n",
       "</style>\n",
       "<table border=\"1\" class=\"dataframe\">\n",
       "  <thead>\n",
       "    <tr style=\"text-align: right;\">\n",
       "      <th></th>\n",
       "      <th>dispatching_base_num</th>\n",
       "      <th>pickup_datetime</th>\n",
       "      <th>dropOff_datetime</th>\n",
       "      <th>PUlocationID</th>\n",
       "      <th>DOlocationID</th>\n",
       "      <th>SR_Flag</th>\n",
       "      <th>Affiliated_base_number</th>\n",
       "    </tr>\n",
       "  </thead>\n",
       "  <tbody>\n",
       "    <tr>\n",
       "      <th>0</th>\n",
       "      <td>B00001</td>\n",
       "      <td>2019-01-01 00:30:00</td>\n",
       "      <td>2019-01-01 02:51:55</td>\n",
       "      <td>&lt;NA&gt;</td>\n",
       "      <td>&lt;NA&gt;</td>\n",
       "      <td>NaN</td>\n",
       "      <td>B00001</td>\n",
       "    </tr>\n",
       "    <tr>\n",
       "      <th>1</th>\n",
       "      <td>B00001</td>\n",
       "      <td>2019-01-01 00:45:00</td>\n",
       "      <td>2019-01-01 00:54:49</td>\n",
       "      <td>&lt;NA&gt;</td>\n",
       "      <td>&lt;NA&gt;</td>\n",
       "      <td>NaN</td>\n",
       "      <td>B00001</td>\n",
       "    </tr>\n",
       "    <tr>\n",
       "      <th>2</th>\n",
       "      <td>B00001</td>\n",
       "      <td>2019-01-01 00:15:00</td>\n",
       "      <td>2019-01-01 00:54:52</td>\n",
       "      <td>&lt;NA&gt;</td>\n",
       "      <td>&lt;NA&gt;</td>\n",
       "      <td>NaN</td>\n",
       "      <td>B00001</td>\n",
       "    </tr>\n",
       "    <tr>\n",
       "      <th>3</th>\n",
       "      <td>B00008</td>\n",
       "      <td>2019-01-01 00:19:00</td>\n",
       "      <td>2019-01-01 00:39:00</td>\n",
       "      <td>&lt;NA&gt;</td>\n",
       "      <td>&lt;NA&gt;</td>\n",
       "      <td>NaN</td>\n",
       "      <td>B00008</td>\n",
       "    </tr>\n",
       "    <tr>\n",
       "      <th>4</th>\n",
       "      <td>B00008</td>\n",
       "      <td>2019-01-01 00:27:00</td>\n",
       "      <td>2019-01-01 00:37:00</td>\n",
       "      <td>&lt;NA&gt;</td>\n",
       "      <td>&lt;NA&gt;</td>\n",
       "      <td>NaN</td>\n",
       "      <td>B00008</td>\n",
       "    </tr>\n",
       "  </tbody>\n",
       "</table>\n",
       "</div>"
      ],
      "text/plain": [
       "  dispatching_base_num      pickup_datetime     dropOff_datetime  \\\n",
       "0               B00001  2019-01-01 00:30:00  2019-01-01 02:51:55   \n",
       "1               B00001  2019-01-01 00:45:00  2019-01-01 00:54:49   \n",
       "2               B00001  2019-01-01 00:15:00  2019-01-01 00:54:52   \n",
       "3               B00008  2019-01-01 00:19:00  2019-01-01 00:39:00   \n",
       "4               B00008  2019-01-01 00:27:00  2019-01-01 00:37:00   \n",
       "\n",
       "   PUlocationID  DOlocationID SR_Flag Affiliated_base_number  \n",
       "0          <NA>          <NA>     NaN                 B00001  \n",
       "1          <NA>          <NA>     NaN                 B00001  \n",
       "2          <NA>          <NA>     NaN                 B00001  \n",
       "3          <NA>          <NA>     NaN                 B00008  \n",
       "4          <NA>          <NA>     NaN                 B00008  "
      ]
     },
     "execution_count": 32,
     "metadata": {},
     "output_type": "execute_result"
    }
   ],
   "source": [
    "\n",
    "df.head(5)\n"
   ]
  },
  {
   "cell_type": "code",
   "execution_count": 8,
   "metadata": {},
   "outputs": [
    {
     "name": "stdout",
     "output_type": "stream",
     "text": [
      "<class 'pandas.core.frame.DataFrame'>\n",
      "RangeIndex: 1707649 entries, 0 to 1707648\n",
      "Data columns (total 7 columns):\n",
      " #   Column                  Dtype \n",
      "---  ------                  ----- \n",
      " 0   dispatching_base_num    object\n",
      " 1   pickup_datetime         object\n",
      " 2   dropOff_datetime        object\n",
      " 3   PUlocationID            Int64 \n",
      " 4   DOlocationID            Int64 \n",
      " 5   SR_Flag                 object\n",
      " 6   Affiliated_base_number  object\n",
      "dtypes: Int64(2), object(5)\n",
      "memory usage: 94.5+ MB\n"
     ]
    }
   ],
   "source": [
    "df.info()"
   ]
  },
  {
   "cell_type": "code",
   "execution_count": 9,
   "metadata": {},
   "outputs": [
    {
     "name": "stdout",
     "output_type": "stream",
     "text": [
      "<IntegerArray>\n",
      "[264,  13, 161, 261, 100, 138, 163, 170, 237, 132,\n",
      " ...\n",
      " 120,  38, 222, 139, 105, 204, 154,  30,  99, 111]\n",
      "Length: 261, dtype: Int64\n"
     ]
    }
   ],
   "source": [
    "\n",
    "print(df['PUlocationID'].unique())"
   ]
  },
  {
   "cell_type": "code",
   "execution_count": null,
   "metadata": {},
   "outputs": [],
   "source": []
  }
 ],
 "metadata": {
  "kernelspec": {
   "display_name": "base",
   "language": "python",
   "name": "python3"
  },
  "language_info": {
   "codemirror_mode": {
    "name": "ipython",
    "version": 3
   },
   "file_extension": ".py",
   "mimetype": "text/x-python",
   "name": "python",
   "nbconvert_exporter": "python",
   "pygments_lexer": "ipython3",
   "version": "3.10.12"
  }
 },
 "nbformat": 4,
 "nbformat_minor": 2
}
