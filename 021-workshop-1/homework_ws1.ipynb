{
  "cells": [
    {
      "cell_type": "markdown",
      "metadata": {
        "id": "mrTFv5nPClXh"
      },
      "source": [
        "# **Homework**: Data talks club data engineering zoomcamp Data loading workshop\n",
        "\n"
      ]
    },
    {
      "cell_type": "code",
      "execution_count": 28,
      "metadata": {
        "id": "xTVvtyqrfVNq"
      },
      "outputs": [],
      "source": [
        "#Install the dependencies\n",
        "#%%capture\n",
        "#!pip install dlt[duckdb]"
      ]
    },
    {
      "cell_type": "markdown",
      "metadata": {
        "id": "wLF4iXf-NR7t"
      },
      "source": [
        "## 1. Use a generator below to answer questions 1 and 2"
      ]
    },
    {
      "cell_type": "code",
      "execution_count": 3,
      "metadata": {
        "colab": {
          "base_uri": "https://localhost:8080/"
        },
        "id": "wLng-bDJN4jf",
        "outputId": "547683cb-5f56-4815-a903-d0d9578eb1f9"
      },
      "outputs": [
        {
          "name": "stdout",
          "output_type": "stream",
          "text": [
            "1.0\n",
            "1.4142135623730951\n",
            "1.7320508075688772\n",
            "2.0\n",
            "2.23606797749979\n"
          ]
        }
      ],
      "source": [
        "\n",
        "def square_root_generator(limit):\n",
        "    n = 1\n",
        "    while n <= limit:\n",
        "        yield n ** 0.5\n",
        "        n += 1\n",
        "\n",
        "# Example usage:\n",
        "limit = 5\n",
        "generator = square_root_generator(limit)\n",
        "\n",
        "for sqrt_value in generator:\n",
        "    print(sqrt_value)"
      ]
    },
    {
      "cell_type": "markdown",
      "metadata": {},
      "source": [
        "### Question 1: What is the sum of the outputs of the generator for limit = 5?\n",
        "\n",
        "#### Solution Q1:"
      ]
    },
    {
      "cell_type": "code",
      "execution_count": 4,
      "metadata": {},
      "outputs": [
        {
          "name": "stdout",
          "output_type": "stream",
          "text": [
            "8.382332347441762\n"
          ]
        }
      ],
      "source": [
        "from operator import add\n",
        "from functools import reduce\n",
        "\n",
        "### Question 1: What is the sum of the outputs of the generator for limit = 5?\n",
        "\n",
        "generator_5 = square_root_generator(limit=5)\n",
        "\n",
        "print(reduce(add, generator_5))        \n"
      ]
    },
    {
      "cell_type": "markdown",
      "metadata": {},
      "source": [
        "### Question 2: What is the 13th number yielded?\n",
        "\n",
        "#### Solution Q2:"
      ]
    },
    {
      "cell_type": "code",
      "execution_count": 5,
      "metadata": {},
      "outputs": [
        {
          "name": "stdout",
          "output_type": "stream",
          "text": [
            "3.605551275463989\n"
          ]
        }
      ],
      "source": [
        "### Question 2: What is the 13th number yielded?\n",
        "generator_13 = square_root_generator(limit=13)\n",
        "for _ in range(12):\n",
        "    next(generator_13)\n",
        "num_13 = next(generator_13)\n",
        "print(num_13)"
      ]
    },
    {
      "cell_type": "markdown",
      "metadata": {
        "id": "vjWhILzGJMpK"
      },
      "source": [
        "# 2. Append a generator to a table with existing data\n",
        "\n",
        "\n",
        "Below you have 2 generators `people_1()` and `people_2()`. You will be tasked to load them to duckdb and answer some questions from the data\n",
        "\n",
        "1. Load the first generator and calculate the sum of ages of all people. Make sure to only load it once.\n",
        "2. Append the second generator to the same table as the first.\n",
        "3. **After correctly appending the data, calculate the sum of all ages of people.**\n"
      ]
    },
    {
      "cell_type": "code",
      "execution_count": 26,
      "metadata": {
        "colab": {
          "base_uri": "https://localhost:8080/"
        },
        "id": "2MoaQcdLBEk6",
        "outputId": "d2b93dc1-d83f-44ea-aeff-fdf51d75f7aa"
      },
      "outputs": [
        {
          "name": "stdout",
          "output_type": "stream",
          "text": [
            "{'ID': 1, 'Name': 'Person_1', 'Age': 26, 'City': 'City_A'}\n",
            "{'ID': 2, 'Name': 'Person_2', 'Age': 27, 'City': 'City_A'}\n",
            "{'ID': 3, 'Name': 'Person_3', 'Age': 28, 'City': 'City_A'}\n",
            "{'ID': 4, 'Name': 'Person_4', 'Age': 29, 'City': 'City_A'}\n",
            "{'ID': 5, 'Name': 'Person_5', 'Age': 30, 'City': 'City_A'}\n"
          ]
        }
      ],
      "source": [
        "import dlt\n",
        "import duckdb\n",
        "\n",
        "def people_1():\n",
        "    for i in range(1, 6):\n",
        "        yield {\"ID\": i, \"Name\": f\"Person_{i}\", \"Age\": 25 + i, \"City\": \"City_A\"}\n",
        "\n",
        "for person in people_1():\n",
        "   print(person)\n"
      ]
    },
    {
      "cell_type": "code",
      "execution_count": 27,
      "metadata": {},
      "outputs": [
        {
          "name": "stdout",
          "output_type": "stream",
          "text": [
            "{'ID': 3, 'Name': 'Person_3', 'Age': 33, 'City': 'City_B', 'Occupation': 'Job_3'}\n",
            "{'ID': 4, 'Name': 'Person_4', 'Age': 34, 'City': 'City_B', 'Occupation': 'Job_4'}\n",
            "{'ID': 5, 'Name': 'Person_5', 'Age': 35, 'City': 'City_B', 'Occupation': 'Job_5'}\n",
            "{'ID': 6, 'Name': 'Person_6', 'Age': 36, 'City': 'City_B', 'Occupation': 'Job_6'}\n",
            "{'ID': 7, 'Name': 'Person_7', 'Age': 37, 'City': 'City_B', 'Occupation': 'Job_7'}\n",
            "{'ID': 8, 'Name': 'Person_8', 'Age': 38, 'City': 'City_B', 'Occupation': 'Job_8'}\n"
          ]
        }
      ],
      "source": [
        "def people_2():\n",
        "    for i in range(3, 9):\n",
        "        yield {\"ID\": i, \"Name\": f\"Person_{i}\", \"Age\": 30 + i, \"City\": \"City_B\", \"Occupation\": f\"Job_{i}\"}\n",
        "\n",
        "for person in people_2():\n",
        "    print(person)"
      ]
    },
    {
      "cell_type": "markdown",
      "metadata": {},
      "source": [
        "### Question 3: After correctly appending the data, calculate the sum of all ages of people.\n",
        "\n",
        "#### Solution Q3:"
      ]
    },
    {
      "cell_type": "code",
      "execution_count": 36,
      "metadata": {},
      "outputs": [
        {
          "name": "stdout",
          "output_type": "stream",
          "text": [
            "Loaded tables: \n"
          ]
        },
        {
          "data": {
            "text/plain": [
              "┌─────────────────────┐\n",
              "│        name         │\n",
              "│       varchar       │\n",
              "├─────────────────────┤\n",
              "│ _dlt_loads          │\n",
              "│ _dlt_pipeline_state │\n",
              "│ _dlt_version        │\n",
              "│ users               │\n",
              "└─────────────────────┘"
            ]
          },
          "metadata": {},
          "output_type": "display_data"
        },
        {
          "name": "stdout",
          "output_type": "stream",
          "text": [
            "\n",
            "\n",
            "\n",
            " Query results: sum of all ages of people\n"
          ]
        },
        {
          "data": {
            "text/plain": [
              "┌─────────────┐\n",
              "│ sum of ages │\n",
              "│   int128    │\n",
              "├─────────────┤\n",
              "│         353 │\n",
              "└─────────────┘"
            ]
          },
          "metadata": {},
          "output_type": "display_data"
        }
      ],
      "source": [
        "import dlt\n",
        "import duckdb\n",
        "\n",
        "people_gen_1 = people_1()\n",
        "people_gen_2 = people_2()\n",
        "\n",
        "# define the connection to load to. \n",
        "pipeline_people_1 = dlt.pipeline(pipeline_name=\"people_1_pipeline\",\n",
        "\t\t\t\t\t\tdestination='duckdb', \n",
        "\t\t\t\t\t\tdataset_name='people_1_dataset')\n",
        "\n",
        "# run the pipeline with the first generator, and capture the outcome\n",
        "info = pipeline_people_1.run(people_gen_1, \n",
        "\t\t\t\t\ttable_name=\"users\", \n",
        "\t\t\t\t\twrite_disposition=\"replace\")\n",
        "# print(info)\n",
        "\n",
        "# run the pipeline with the second generator, write to the same table\n",
        "info = pipeline_people_1.run(people_gen_2, \n",
        "\t\t\t\t\ttable_name=\"users\", \n",
        "\t\t\t\t\twrite_disposition=\"append\")\n",
        "# print(info)\n",
        "\n",
        "# show the outcome\n",
        "conn = duckdb.connect(f\"{pipeline_people_1.pipeline_name}.duckdb\")\n",
        "\n",
        "# check the tables\n",
        "conn.sql(f\"SET search_path = '{pipeline_people_1.dataset_name}'\")\n",
        "print('Loaded tables: ')\n",
        "display(conn.sql(\"show tables\"))\n",
        "\n",
        "print(\"\\n\\n\\n Query results: sum of all ages of people\")\n",
        "sum_ages = conn.sql(\"\"\"\n",
        "SELECT SUM(age) as 'sum of ages'\n",
        "FROM users\n",
        "LIMIT 1\n",
        "\"\"\").df()\n",
        "display(sum_ages)"
      ]
    },
    {
      "cell_type": "markdown",
      "metadata": {
        "id": "pY4cFAWOSwN1"
      },
      "source": [
        "# 3. Merge a generator\n",
        "\n",
        "Re-use the generators from Exercise 2.\n",
        "\n",
        "A table's primary key needs to be created from the start, so load your data to a new table with primary key ID.\n",
        "\n",
        "Load your first generator first, and then load the second one with merge. Since they have overlapping IDs, some of the records from the first load should be replaced by the ones from the second load.\n",
        "\n",
        "After loading, you should have a total of 8 records, and ID 3 should have age 33.\n"
      ]
    },
    {
      "cell_type": "markdown",
      "metadata": {},
      "source": [
        "### Question 4: Calculate the sum of ages of all the people loaded as described above.\n",
        "\n",
        "#### Solution Q4:"
      ]
    },
    {
      "cell_type": "code",
      "execution_count": 42,
      "metadata": {},
      "outputs": [
        {
          "name": "stdout",
          "output_type": "stream",
          "text": [
            "Loaded tables: \n"
          ]
        },
        {
          "data": {
            "text/plain": [
              "┌─────────────────────┐\n",
              "│        name         │\n",
              "│       varchar       │\n",
              "├─────────────────────┤\n",
              "│ _dlt_loads          │\n",
              "│ _dlt_pipeline_state │\n",
              "│ _dlt_version        │\n",
              "│ users               │\n",
              "│ users_merge         │\n",
              "└─────────────────────┘"
            ]
          },
          "metadata": {},
          "output_type": "display_data"
        },
        {
          "name": "stdout",
          "output_type": "stream",
          "text": [
            "\n",
            "\n",
            "\n",
            " Query results: sum of all ages of people\n"
          ]
        },
        {
          "data": {
            "text/html": [
              "<div>\n",
              "<style scoped>\n",
              "    .dataframe tbody tr th:only-of-type {\n",
              "        vertical-align: middle;\n",
              "    }\n",
              "\n",
              "    .dataframe tbody tr th {\n",
              "        vertical-align: top;\n",
              "    }\n",
              "\n",
              "    .dataframe thead th {\n",
              "        text-align: right;\n",
              "    }\n",
              "</style>\n",
              "<table border=\"1\" class=\"dataframe\">\n",
              "  <thead>\n",
              "    <tr style=\"text-align: right;\">\n",
              "      <th></th>\n",
              "      <th>sum of ages</th>\n",
              "    </tr>\n",
              "  </thead>\n",
              "  <tbody>\n",
              "    <tr>\n",
              "      <th>0</th>\n",
              "      <td>266.0</td>\n",
              "    </tr>\n",
              "  </tbody>\n",
              "</table>\n",
              "</div>"
            ],
            "text/plain": [
              "   sum of ages\n",
              "0        266.0"
            ]
          },
          "metadata": {},
          "output_type": "display_data"
        },
        {
          "data": {
            "text/plain": [
              "┌───────┬──────────┬───────┐\n",
              "│  id   │   name   │  age  │\n",
              "│ int64 │ varchar  │ int64 │\n",
              "├───────┼──────────┼───────┤\n",
              "│     1 │ Person_1 │    26 │\n",
              "│     2 │ Person_2 │    27 │\n",
              "│     3 │ Person_3 │    33 │\n",
              "│     4 │ Person_4 │    34 │\n",
              "│     5 │ Person_5 │    35 │\n",
              "│     6 │ Person_6 │    36 │\n",
              "│     7 │ Person_7 │    37 │\n",
              "│     8 │ Person_8 │    38 │\n",
              "└───────┴──────────┴───────┘"
            ]
          },
          "metadata": {},
          "output_type": "display_data"
        }
      ],
      "source": [
        "people_gen_1 = people_1()\n",
        "people_gen_2 = people_2()\n",
        "\n",
        "# define the connection to load to. \n",
        "pipeline_people_1 = dlt.pipeline(pipeline_name=\"people_1_pipeline\",\n",
        "\t\t\t\t\t\tdestination='duckdb', \n",
        "\t\t\t\t\t\tdataset_name='people_1_dataset')\n",
        "\n",
        "# run the pipeline with the first generator, and capture the outcome\n",
        "info = pipeline_people_1.run(people_gen_1, \n",
        "\t\t\t\t\ttable_name=\"users_merge\", \n",
        "\t\t\t\t\twrite_disposition=\"replace\")\n",
        "# print(info)\n",
        "\n",
        "# run the pipeline with the second generator, write to the same table\n",
        "info = pipeline_people_1.run(people_gen_2, \n",
        "\t\t\t\t\ttable_name=\"users_merge\", \n",
        "\t\t\t\t\twrite_disposition=\"merge\",\n",
        "                    primary_key=\"id\")\n",
        "# print(info)\n",
        "\n",
        "# show the outcome\n",
        "conn = duckdb.connect(f\"{pipeline_people_1.pipeline_name}.duckdb\")\n",
        "\n",
        "# check the tables\n",
        "conn.sql(f\"SET search_path = '{pipeline_people_1.dataset_name}'\")\n",
        "print('Loaded tables: ')\n",
        "display(conn.sql(\"show tables\"))\n",
        "\n",
        "\n",
        "print(\"\\n\\n\\n Query results: sum of all ages of people\")\n",
        "sum_ages_merged = conn.sql(\"\"\"\n",
        "SELECT SUM(age) as 'sum of ages'\n",
        "FROM users_merge\n",
        "LIMIT 1\n",
        "\"\"\").df()\n",
        "display(sum_ages_merged)\n",
        "\n",
        "print(\"\\n\\n\\n View resulting table\")\n",
        "view_users_merged = conn.sql(\"\"\"\n",
        "SELECT id, name, age\n",
        "FROM users_merge\n",
        "ORDER BY id\n",
        "\"\"\")\n",
        "display(view_users_merged)"
      ]
    }
  ],
  "metadata": {
    "colab": {
      "provenance": []
    },
    "kernelspec": {
      "display_name": "Python 3",
      "name": "python3"
    },
    "language_info": {
      "codemirror_mode": {
        "name": "ipython",
        "version": 3
      },
      "file_extension": ".py",
      "mimetype": "text/x-python",
      "name": "python",
      "nbconvert_exporter": "python",
      "pygments_lexer": "ipython3",
      "version": "3.10.12"
    }
  },
  "nbformat": 4,
  "nbformat_minor": 0
}
